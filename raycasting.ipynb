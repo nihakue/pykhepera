{
 "metadata": {
  "name": ""
 },
 "nbformat": 3,
 "nbformat_minor": 0,
 "worksheets": [
  {
   "cells": [
    {
     "cell_type": "code",
     "collapsed": false,
     "input": [
      "from scipy import misc\n",
      "from scipy import ndimage\n",
      "from collections import namedtuple\n",
      "Point = namedtuple('Point', 'x, y')\n",
      "Pose = namedtuple('Pose', 'x, y, phi, radius, range')"
     ],
     "language": "python",
     "metadata": {},
     "outputs": [],
     "prompt_number": 1
    },
    {
     "cell_type": "code",
     "collapsed": false,
     "input": [
      "robot = Pose(600, 200, 0, radius=26.5, range=100)\n",
      "lidar = dict(\n",
      "             port=-pi/2,\n",
      "             port_quarter = -pi/4,\n",
      "             port_bow = 0,\n",
      "             stbd_bow = 0,\n",
      "             stbd_quarter = pi/4,\n",
      "             stbd=pi/2,\n",
      "             stbd_stern = pi,\n",
      "             port_stern = pi)"
     ],
     "language": "python",
     "metadata": {},
     "outputs": [],
     "prompt_number": 5
    },
    {
     "cell_type": "code",
     "collapsed": false,
     "input": [
      "arena = misc.imread('arena.bmp')\n",
      "plt.imshow(arena)\n",
      "xlim(-5, size(arena, axis=1))\n",
      "ylim(-5, size(arena, axis=0))\n",
      "lidar_range = {}\n",
      "robot_circle = Circle((robot.x, robot.y), radius=robot.radius, color='g')\n",
      "for laser, theta in lidar.iteritems():\n",
      "    phi = robot.phi + theta\n",
      "    offset = phi\n",
      "    bow_stern_offset = 14.5\n",
      "    \n",
      "    if 'bow' in laser:\n",
      "        if 'stbd' in laser:\n",
      "            offset += deg2rad(bow_stern_offset)\n",
      "        else:\n",
      "            offset += deg2rad(-bow_stern_offset)\n",
      "    if 'stern' in laser:\n",
      "        if 'stbd' in laser:\n",
      "            offset += deg2rad(-bow_stern_offset)\n",
      "        else:\n",
      "            offset += deg2rad(bow_stern_offset)\n",
      "            \n",
      "    r = linspace(0, robot.range, 1000)\n",
      "    x_offset = robot.radius*cos(offset)\n",
      "    y_offset = robot.radius*sin(offset)\n",
      "    x = robot.x + x_offset + (r*cos(phi))\n",
      "    y = robot.y + y_offset + (r*sin(phi))\n",
      "    #TODO: remove out of bounds points\n",
      "    temp = []\n",
      "    it = np.nditer(x, flags=['f_index'])\n",
      "    while not it.finished:\n",
      "        if (x[it.index] > size(arena, axis=0) or y[it.index] > size(arena, axis=1) \n",
      "            or x[it.index] <= 0 or y[it.index] <= 0):\n",
      "            temp.append(it.index)\n",
      "        it.iternext()\n",
      "    x[temp] = []\n",
      "    y[temp] = []\n",
      "    \n",
      "    plot(x, y, 'r')\n",
      "    #computing intersections\n",
      "    xint = np.round(x)\n",
      "    yint = np.round(y)\n",
      "    #Correcting zero map indexing\n",
      "    xint2 = [1 if a==0 else a for a in xint]\n",
      "    yint2 = [1 if b==0 else b for b in yint]\n",
      "    b = [arena[yint2[j],xint2[j]] for j in xrange(len(xint2))]\n",
      "    indices = mlab.find(np.ravel(b) == 1)\n",
      "    if indices.any():\n",
      "        xb = x[indices[0]]\n",
      "        yb = y[indices[0]]\n",
      "        plot(xb, yb, 'g*')\n",
      "        dist = sqrt((robot.x - xb)**2 + (robot.y - yb)**2)\n",
      "        #update the range dictionary\n",
      "        lidar_range[laser] = dist\n",
      "plt.gca().add_artist(robot_circle)"
     ],
     "language": "python",
     "metadata": {},
     "outputs": [
      {
       "metadata": {},
       "output_type": "pyout",
       "prompt_number": 6,
       "text": [
        "<matplotlib.patches.Circle at 0x32c4390>"
       ]
      },
      {
       "metadata": {},
       "output_type": "display_data",
       "png": "[encoded data removed]",
       "text": [
        "<matplotlib.figure.Figure at 0x32afd50>"
       ]
      }
     ],
     "prompt_number": 6
    },
    {
     "cell_type": "code",
     "collapsed": false,
     "input": [
      "print lidar_range"
     ],
     "language": "python",
     "metadata": {},
     "outputs": [
      {
       "output_type": "stream",
       "stream": "stdout",
       "text": [
        "{'port_bow': 30.295328012595832, 'stbd_quarter': 26.499999999999972, 'stbd_bow': 26.500000000000011}\n"
       ]
      }
     ],
     "prompt_number": 4
    },
    {
     "cell_type": "code",
     "collapsed": false,
     "input": [],
     "language": "python",
     "metadata": {},
     "outputs": []
    }
   ],
   "metadata": {}
  }
 ]
}